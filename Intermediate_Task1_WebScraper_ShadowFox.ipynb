{
  "nbformat": 4,
  "nbformat_minor": 0,
  "metadata": {
    "colab": {
      "provenance": []
    },
    "kernelspec": {
      "name": "python3",
      "display_name": "Python 3"
    },
    "language_info": {
      "name": "python"
    }
  },
  "cells": [
    {
      "cell_type": "code",
      "execution_count": 10,
      "metadata": {
        "colab": {
          "base_uri": "https://localhost:8080/"
        },
        "id": "QjlS0yMiNqTg",
        "outputId": "1a3293b3-4930-466d-a1fb-551a9732584f"
      },
      "outputs": [
        {
          "output_type": "stream",
          "name": "stdout",
          "text": [
            "\n",
            "📰 BBC News – Top 10 Headlines (via RSS Feed):\n",
            "\n",
            "1. Top UN court says countries can sue each other over climate change\n",
            "   Link → https://www.bbc.com/news/articles/ce379k4v3pwo \n",
            "\n",
            "2. Mother and two children killed in Northern Ireland shooting, BBC understands\n",
            "   Link → https://www.bbc.com/news/articles/cqx2537w5e2o \n",
            "\n",
            "3. British surgeon who had his legs removed  accused of fraud\n",
            "   Link → https://www.bbc.com/news/articles/c75r21ww30vo \n",
            "\n",
            "4. Did Ozzy Osbourne really bite the head off a live bat? The story behind the notorious incident\n",
            "   Link → https://www.bbc.com/news/articles/c72ppzwek90o \n",
            "\n",
            "5. Police deny driving counter-protesters to asylum hotel demonstration\n",
            "   Link → https://www.bbc.com/news/articles/c4g8nzn3ne9o \n",
            "\n",
            "6. City traders jailed for interest rate-rigging have convictions quashed\n",
            "   Link → https://www.bbc.com/news/articles/cr5vgqr8p14o \n",
            "\n",
            "7. M&S ad banned over 'unhealthily thin' model\n",
            "   Link → https://www.bbc.com/news/articles/cly2j1322w9o \n",
            "\n",
            "8. New MasterChef series starring sacked hosts to be aired, BBC confirms\n",
            "   Link → https://www.bbc.com/news/articles/cvg8dn9ddqzo \n",
            "\n",
            "9. Gaps in our knowledge of ancient Rome could be filled by AI\n",
            "   Link → https://www.bbc.com/news/articles/c04dwqr5lkvo \n",
            "\n",
            "10. Faisal Islam: Trump's tough tariff tactics are getting results\n",
            "   Link → https://www.bbc.com/news/articles/c93k0wzyw0ko \n",
            "\n"
          ]
        }
      ],
      "source": [
        "# ShadowFox Internship - Intermediate Task 1\n",
        "# BBC News Scraper using RSS Feed for reliable headlines\n",
        "\n",
        "# Install feedparser\n",
        "try:\n",
        "    import feedparser\n",
        "except ImportError:\n",
        "    !pip install feedparser\n",
        "    import feedparser\n",
        "\n",
        "#  BBC RSS feed URL\n",
        "rss_url = \"http://feeds.bbci.co.uk/news/rss.xml\"\n",
        "\n",
        "# Parse the RSS feed\n",
        "feed = feedparser.parse(rss_url)\n",
        "\n",
        "#  Extract and print the top 10 headlines\n",
        "print(\"\\n📰 BBC News – Top 10 Headlines (via RSS Feed):\\n\")\n",
        "for i, entry in enumerate(feed.entries[:10], start=1):\n",
        "    title = entry.title\n",
        "    link = entry.link\n",
        "    print(f\"{i}. {title}\")\n",
        "    print(\"   Link →\", link, \"\\n\")\n",
        "\n"
      ]
    }
  ]
}