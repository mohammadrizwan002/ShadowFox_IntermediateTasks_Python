{
  "nbformat": 4,
  "nbformat_minor": 0,
  "metadata": {
    "colab": {
      "provenance": []
    },
    "kernelspec": {
      "name": "python3",
      "display_name": "Python 3"
    },
    "language_info": {
      "name": "python"
    }
  },
  "cells": [
    {
      "cell_type": "markdown",
      "source": [
        "# ShadowFox Internship - Intermediate Task 2\n",
        "# Hangman Game – Telugu Movie Title Edition"
      ],
      "metadata": {
        "id": "oNOpoXgvSSfY"
      }
    },
    {
      "cell_type": "code",
      "execution_count": 3,
      "metadata": {
        "colab": {
          "base_uri": "https://localhost:8080/"
        },
        "id": "yRIbKbhMRBdT",
        "outputId": "90063d09-1eb5-4c15-8787-ea5f3c863d3c"
      },
      "outputs": [
        {
          "output_type": "stream",
          "name": "stdout",
          "text": [
            "\n",
            "🎥 Welcome to HANGMAN – Telugu Movie Edition!\n",
            "Guess the movie title, one letter at a time.\n",
            "\n",
            "\n",
            "Current Word: _ _ _ _ _ _ _ _ _\n",
            "Wrong Letters: \n",
            "Enter a letter: M\n",
            "❌ Wrong guess. Tries left: 5\n",
            "\n",
            "Current Word: _ _ _ _ _ _ _ _ _\n",
            "Wrong Letters: M\n",
            "Enter a letter: A\n",
            "✅ Correct!\n",
            "\n",
            "Current Word: _ A A _ _ _ A _ _\n",
            "Wrong Letters: M\n",
            "Enter a letter: B\n",
            "✅ Correct!\n",
            "\n",
            "Current Word: B A A _ _ B A _ _\n",
            "Wrong Letters: M\n",
            "Enter a letter: A\n",
            "You've already tried this letter.\n",
            "\n",
            "Current Word: B A A _ _ B A _ _\n",
            "Wrong Letters: M\n",
            "Enter a letter: H\n",
            "✅ Correct!\n",
            "\n",
            "Current Word: B A A H _ B A _ _\n",
            "Wrong Letters: M\n",
            "Enter a letter: U\n",
            "✅ Correct!\n",
            "\n",
            "Current Word: B A A H U B A _ _\n",
            "Wrong Letters: M\n",
            "Enter a letter: L\n",
            "✅ Correct!\n",
            "\n",
            "Current Word: B A A H U B A L _\n",
            "Wrong Letters: M\n",
            "Enter a letter: I\n",
            "✅ Correct!\n",
            "\n",
            "Current Word: B A A H U B A L I\n",
            "Wrong Letters: M\n",
            "\n",
            "🎉 You Won! The movie was: BAAHUBALI\n"
          ]
        }
      ],
      "source": [
        "import random\n",
        "\n",
        "# List of Telugu movie titles\n",
        "movies = [\"BAAHUBALI\", \"RRR\", \"PUSHPA\", \"MAHARSHI\", \"ARJUNREDDY\", \"SALAAR\", \"EGA\", \"JERSEY\"]\n",
        "movie = random.choice(movies)\n",
        "\n",
        "# Initialize game variables\n",
        "guessed_letters = set()\n",
        "wrong_guesses = set()\n",
        "max_tries = 6\n",
        "\n",
        "print(\"\\n🎥 Welcome to HANGMAN – Telugu Movie Edition!\")\n",
        "print(\"Guess the movie title, one letter at a time.\\n\")\n",
        "\n",
        "# Game Loop\n",
        "while True:\n",
        "    # Create the display of current word status\n",
        "    display_word = \" \".join([ch if ch in guessed_letters else \"_\" for ch in movie])\n",
        "    print(\"\\nCurrent Word:\", display_word)\n",
        "    print(\"Wrong Letters:\", \" \".join(sorted(wrong_guesses)))\n",
        "\n",
        "    # Check win condition\n",
        "    if \"_\" not in display_word:\n",
        "        print(\"\\n🎉 You Won! The movie was:\", movie)\n",
        "        break\n",
        "\n",
        "    # Check lose condition\n",
        "    if len(wrong_guesses) >= max_tries:\n",
        "        print(\"\\n😢 Game Over! You ran out of tries.\")\n",
        "        print(\"The correct movie was:\", movie)\n",
        "        break\n",
        "\n",
        "    #  User input\n",
        "    guess = input(\"Enter a letter: \").strip().upper()\n",
        "\n",
        "    if not guess.isalpha() or len(guess) != 1:\n",
        "        print(\"Please enter a single valid alphabet letter.\")\n",
        "        continue\n",
        "\n",
        "    if guess in guessed_letters or guess in wrong_guesses:\n",
        "        print(\"You've already tried this letter.\")\n",
        "        continue\n",
        "\n",
        "    # Process guess\n",
        "    if guess in movie:\n",
        "        guessed_letters.add(guess)\n",
        "        print(\"✅ Correct!\")\n",
        "    else:\n",
        "        wrong_guesses.add(guess)\n",
        "        print(\"❌ Wrong guess. Tries left:\", max_tries - len(wrong_guesses))"
      ]
    }
  ]
}